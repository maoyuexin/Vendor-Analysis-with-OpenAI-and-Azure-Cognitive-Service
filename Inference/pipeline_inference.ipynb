{
  "cells": [
    {
      "attachments": {},
      "cell_type": "markdown",
      "metadata": {},
      "source": [
        "# Build pipeline with registered components\n",
        "\n",
        "**Requirements** - In order to benefit from this tutorial, you will need:\n",
        "- A basic understanding of Machine Learning\n",
        "- An Azure account with an active subscription - [Create an account for free](https://azure.microsoft.com/free/?WT.mc_id=A261C142F)\n",
        "- An Azure ML workspace with computer cluster - [Configure workspace](../../configuration.ipynb)\n",
        "- A python environment\n",
        "- Installed Azure Machine Learning Python SDK v2 - [install instructions](../../../README.md) - check the getting started section\n",
        "\n",
        "**Learning Objectives** - By the end of this tutorial, you should be able to:\n",
        "- Connect to your AML workspace from the Python SDK\n",
        "- Define `CommandComponent` using YAML, `command_component` decorator\n",
        "- Create components into workspace\n",
        "- Create `Pipeline` using registered components.\n",
        "\n",
        "**Motivations** - This notebook explains different method to create components via SDK then use these components to build pipeline."
      ]
    },
    {
      "attachments": {},
      "cell_type": "markdown",
      "metadata": {},
      "source": [
        "# 1. Connect to Azure Machine Learning Workspace\n",
        "\n",
        "The [workspace](https://docs.microsoft.com/en-us/azure/machine-learning/concept-workspace) is the top-level resource for Azure Machine Learning, providing a centralized place to work with all the artifacts you create when you use Azure Machine Learning. In this section we will connect to the workspace in which the job will be run.\n",
        "\n",
        "## 1.1 Import the required libraries"
      ]
    },
    {
      "cell_type": "code",
      "execution_count": 45,
      "metadata": {
        "gather": {
          "logged": 1683161953743
        }
      },
      "outputs": [],
      "source": [
        "# Import required libraries\n",
        "from azure.identity import DefaultAzureCredential, InteractiveBrowserCredential\n",
        "\n",
        "from azure.ai.ml import MLClient, Input, Output\n",
        "from azure.ai.ml.dsl import pipeline\n",
        "from azure.ai.ml import load_component"
      ]
    },
    {
      "attachments": {},
      "cell_type": "markdown",
      "metadata": {},
      "source": [
        "## 1.2 Configure credential\n",
        "\n",
        "We are using `DefaultAzureCredential` to get access to workspace. \n",
        "`DefaultAzureCredential` should be capable of handling most Azure SDK authentication scenarios. \n",
        "\n",
        "Reference for more available credentials if it does not work for you: [configure credential example](../../configuration.ipynb), [azure-identity reference doc](https://docs.microsoft.com/en-us/python/api/azure-identity/azure.identity?view=azure-python)."
      ]
    },
    {
      "cell_type": "code",
      "execution_count": 46,
      "metadata": {
        "gather": {
          "logged": 1683161955921
        }
      },
      "outputs": [],
      "source": [
        "try:\n",
        "    credential = DefaultAzureCredential()\n",
        "    # Check if given credential can get token successfully.\n",
        "    credential.get_token(\"https://management.azure.com/.default\")\n",
        "except Exception as ex:\n",
        "    # Fall back to InteractiveBrowserCredential in case DefaultAzureCredential not work\n",
        "    credential = InteractiveBrowserCredential()"
      ]
    },
    {
      "attachments": {},
      "cell_type": "markdown",
      "metadata": {},
      "source": [
        "## 1.3 Get a handle to the workspace\n",
        "\n",
        "We use config file to connect to a workspace. The Azure ML workspace should be configured with computer cluster. [Check this notebook for configure a workspace](../../configuration.ipynb)"
      ]
    },
    {
      "cell_type": "code",
      "execution_count": 47,
      "metadata": {
        "gather": {
          "logged": 1683161957303
        }
      },
      "outputs": [],
      "source": [
        "# Get a handle to workspace\n",
        "#ml_client = MLClient.from_config(credential=credential)\n",
        "\n",
        "subscription_id = \"\"\n",
        "resource_group = \"\"\n",
        "workspace = \"\"\n",
        "\n",
        "ml_client = MLClient(credential, subscription_id, resource_group, workspace)\n",
        "# Retrieve an already attached Azure Machine Learning Compute.\n",
        "cluster_name = \"cpu-cluster\"\n",
        "#print(ml_client.compute.get(cluster_name))"
      ]
    },
    {
      "attachments": {},
      "cell_type": "markdown",
      "metadata": {},
      "source": [
        "# 2. Define and create components into workspace\n",
        "## 2.1 Load components definition from YAML and Register components into workspace"
      ]
    },
    {
      "attachments": {},
      "cell_type": "markdown",
      "metadata": {},
      "source": [
        "#### "
      ]
    },
    {
      "cell_type": "code",
      "execution_count": 48,
      "metadata": {
        "gather": {
          "logged": 1683161958852
        }
      },
      "outputs": [],
      "source": [
        "parent_dir = \".\""
      ]
    },
    {
      "cell_type": "code",
      "execution_count": 49,
      "metadata": {
        "gather": {
          "logged": 1683161962255
        }
      },
      "outputs": [
        {
          "name": "stdout",
          "output_type": "stream",
          "text": [
            "$schema: https://azuremlschemas.azureedge.net/latest/commandComponent.schema.json\n",
            "name: data_extraction\n",
            "version: 1.0.1\n",
            "display_name: data_extraction\n",
            "type: command\n",
            "inputs:\n",
            "  blobname:\n",
            "    type: string\n",
            "outputs:\n",
            "  output:\n",
            "    type: uri_folder\n",
            "command: python form-recognizer.py  --blobname ${{inputs.blobname}} --output ${{outputs.output}}\n",
            "environment: azureml:/subscriptions/aa18b01c-698a-4766-8181-9121aa576dc4/resourceGroups/rs1/providers/Microsoft.MachineLearningServices/workspaces/ymao-ws1/environments/docker-image-for-pair-matching/versions/6\n",
            "code: azureml:/subscriptions/aa18b01c-698a-4766-8181-9121aa576dc4/resourceGroups/rs1/providers/Microsoft.MachineLearningServices/workspaces/ymao-ws1/codes/af84d5e7-8a70-4422-acf6-f45fa90dfeec/versions/1\n",
            "resources:\n",
            "  instance_count: 1\n",
            "tags: {}\n",
            "is_deterministic: true\n",
            "id: azureml:/subscriptions/aa18b01c-698a-4766-8181-9121aa576dc4/resourceGroups/rs1/providers/Microsoft.MachineLearningServices/workspaces/ymao-ws1/components/data_extraction/versions/1.0.1\n",
            "creation_context:\n",
            "  created_at: '2023-04-15T05:04:25.392870+00:00'\n",
            "  created_by: YUEXIN MAO\n",
            "  created_by_type: User\n",
            "  last_modified_at: '2023-04-15T05:04:25.503746+00:00'\n",
            "  last_modified_by: YUEXIN MAO\n",
            "  last_modified_by_type: User\n",
            "\n"
          ]
        }
      ],
      "source": [
        "data_extraction = load_component(source=parent_dir + \"/data_extraction.yml\")\n",
        "\n",
        "try:\n",
        "    data_extraction = ml_client.components.get(name=\"data_extraction\", version=\"1.0.1\")\n",
        "except:\n",
        "    data_extraction = ml_client.components.create_or_update(data_extraction)\n",
        "\n",
        "\n",
        "print(data_extraction)"
      ]
    },
    {
      "attachments": {},
      "cell_type": "markdown",
      "metadata": {},
      "source": [
        "#### data enrichment"
      ]
    },
    {
      "cell_type": "code",
      "execution_count": 50,
      "metadata": {
        "gather": {
          "logged": 1683161964233
        }
      },
      "outputs": [
        {
          "name": "stdout",
          "output_type": "stream",
          "text": [
            "$schema: https://azuremlschemas.azureedge.net/latest/commandComponent.schema.json\n",
            "name: data_enrichment\n",
            "version: '1.7'\n",
            "display_name: data_enrichment\n",
            "description: Enrich data based on Bing API\n",
            "type: command\n",
            "inputs:\n",
            "  file_path_in:\n",
            "    type: uri_folder\n",
            "outputs:\n",
            "  file_path_out:\n",
            "    type: uri_folder\n",
            "command: python bing-enrichment.py  --file_path_in ${{inputs.file_path_in}} --file_path_out\n",
            "  ${{outputs.file_path_out}}\n",
            "environment: azureml:/subscriptions/aa18b01c-698a-4766-8181-9121aa576dc4/resourceGroups/rs1/providers/Microsoft.MachineLearningServices/workspaces/ymao-ws1/environments/docker-image-for-pair-matching/versions/6\n",
            "code: azureml:/subscriptions/aa18b01c-698a-4766-8181-9121aa576dc4/resourceGroups/rs1/providers/Microsoft.MachineLearningServices/workspaces/ymao-ws1/codes/c7e7c783-4537-42a2-94dd-d94a77ad68c1/versions/1\n",
            "resources:\n",
            "  instance_count: 1\n",
            "tags: {}\n",
            "is_deterministic: true\n",
            "id: azureml:/subscriptions/aa18b01c-698a-4766-8181-9121aa576dc4/resourceGroups/rs1/providers/Microsoft.MachineLearningServices/workspaces/ymao-ws1/components/data_enrichment/versions/1.7\n",
            "creation_context:\n",
            "  created_at: '2023-02-07T16:00:37.192290+00:00'\n",
            "  created_by: YUEXIN MAO\n",
            "  created_by_type: User\n",
            "  last_modified_at: '2023-02-07T16:00:37.295293+00:00'\n",
            "  last_modified_by: YUEXIN MAO\n",
            "  last_modified_by_type: User\n",
            "\n"
          ]
        }
      ],
      "source": [
        "data_enrichment = load_component(source=parent_dir + \"/data_enrichment.yml\")\n",
        "\n",
        "try:\n",
        "    data_enrichment = ml_client.components.get(name=\"data_enrichment\", version=\"1.7\")\n",
        "except:\n",
        "    data_enrichment = ml_client.components.create_or_update(data_enrichment)\n",
        "\n",
        "\n",
        "print(data_enrichment)"
      ]
    },
    {
      "cell_type": "code",
      "execution_count": 51,
      "metadata": {
        "gather": {
          "logged": 1683161966442
        }
      },
      "outputs": [
        {
          "name": "stdout",
          "output_type": "stream",
          "text": [
            "$schema: https://azuremlschemas.azureedge.net/latest/commandComponent.schema.json\n",
            "name: openai_enrichment\n",
            "version: 1.1.5\n",
            "display_name: openai_enrichment\n",
            "description: Enrich and categorize data based on OpenAI API\n",
            "type: command\n",
            "inputs:\n",
            "  file_path_in:\n",
            "    type: uri_folder\n",
            "  gpt_engine:\n",
            "    type: string\n",
            "  temperature_clasify:\n",
            "    type: number\n",
            "    default: '0.9'\n",
            "  max_tokens_clasify:\n",
            "    type: integer\n",
            "    default: '100'\n",
            "  temperature_summarize:\n",
            "    type: number\n",
            "    default: '0.9'\n",
            "  max_token_summarize:\n",
            "    type: integer\n",
            "    default: '500'\n",
            "  top_p:\n",
            "    type: number\n",
            "    default: '1.0'\n",
            "  frequency_penalty:\n",
            "    type: number\n",
            "    default: '0.5'\n",
            "  presence_penalty:\n",
            "    type: number\n",
            "    default: '0.5'\n",
            "  best_of:\n",
            "    type: number\n",
            "    default: '1.0'\n",
            "outputs:\n",
            "  file_path_out:\n",
            "    type: uri_folder\n",
            "command: python data_enrichment_openAI.py  --file_path_in ${{inputs.file_path_in}}\n",
            "  --gpt_engine ${{inputs.gpt_engine}} --file_path_out ${{outputs.file_path_out}}\n",
            "environment: azureml:/subscriptions/aa18b01c-698a-4766-8181-9121aa576dc4/resourceGroups/rs1/providers/Microsoft.MachineLearningServices/workspaces/ymao-ws1/environments/docker-image-for-pair-matching/versions/8\n",
            "code: azureml:/subscriptions/aa18b01c-698a-4766-8181-9121aa576dc4/resourceGroups/rs1/providers/Microsoft.MachineLearningServices/workspaces/ymao-ws1/codes/ed19e72d-f779-4a68-8ccd-5de869c838f5/versions/1\n",
            "resources:\n",
            "  instance_count: 1\n",
            "tags: {}\n",
            "is_deterministic: true\n",
            "id: azureml:/subscriptions/aa18b01c-698a-4766-8181-9121aa576dc4/resourceGroups/rs1/providers/Microsoft.MachineLearningServices/workspaces/ymao-ws1/components/openai_enrichment/versions/1.1.5\n",
            "creation_context:\n",
            "  created_at: '2023-05-03T21:26:43.309846+00:00'\n",
            "  created_by: YUEXIN MAO\n",
            "  created_by_type: User\n",
            "  last_modified_at: '2023-05-03T21:26:43.393084+00:00'\n",
            "  last_modified_by: YUEXIN MAO\n",
            "  last_modified_by_type: User\n",
            "\n"
          ]
        }
      ],
      "source": [
        "openai_enrichment = load_component(source=parent_dir + \"/data_enrichment_openAI.yml\")\n",
        "\n",
        "try:\n",
        "    openai_enrichment = ml_client.components.get(name=\"openai_enrichment\", version=\"1.1.5\")\n",
        "except:\n",
        "    openai_enrichment = ml_client.components.create_or_update(openai_enrichment)\n",
        "\n",
        "\n",
        "print(openai_enrichment)"
      ]
    },
    {
      "cell_type": "code",
      "execution_count": 52,
      "metadata": {
        "gather": {
          "logged": 1683161968896
        }
      },
      "outputs": [
        {
          "name": "stdout",
          "output_type": "stream",
          "text": [
            "$schema: https://azuremlschemas.azureedge.net/latest/commandComponent.schema.json\n",
            "name: cog_search\n",
            "version: 1.0.2\n",
            "display_name: cog_search\n",
            "description: Search for similar products from Cognitive Search\n",
            "type: command\n",
            "inputs:\n",
            "  file_path_in:\n",
            "    type: uri_folder\n",
            "outputs:\n",
            "  file_path_out:\n",
            "    type: uri_folder\n",
            "command: python data_searhing.py --file_path_in ${{inputs.file_path_in}} --file_path_out\n",
            "  ${{outputs.file_path_out}}\n",
            "environment: azureml:/subscriptions/aa18b01c-698a-4766-8181-9121aa576dc4/resourceGroups/rs1/providers/Microsoft.MachineLearningServices/workspaces/ymao-ws1/environments/docker-image-for-pair-matching/versions/15\n",
            "code: azureml:/subscriptions/aa18b01c-698a-4766-8181-9121aa576dc4/resourceGroups/rs1/providers/Microsoft.MachineLearningServices/workspaces/ymao-ws1/codes/6ce5cd74-d204-4617-85dd-c5de3d93f609/versions/1\n",
            "resources:\n",
            "  instance_count: 1\n",
            "tags: {}\n",
            "is_deterministic: true\n",
            "id: azureml:/subscriptions/aa18b01c-698a-4766-8181-9121aa576dc4/resourceGroups/rs1/providers/Microsoft.MachineLearningServices/workspaces/ymao-ws1/components/cog_search/versions/1.0.2\n",
            "creation_context:\n",
            "  created_at: '2023-04-15T05:55:04.094513+00:00'\n",
            "  created_by: YUEXIN MAO\n",
            "  created_by_type: User\n",
            "  last_modified_at: '2023-04-15T05:55:04.230794+00:00'\n",
            "  last_modified_by: YUEXIN MAO\n",
            "  last_modified_by_type: User\n",
            "\n"
          ]
        }
      ],
      "source": [
        "data_search = load_component(source=parent_dir + \"/data_search.yml\")\n",
        "\n",
        "try:\n",
        "    data_search = ml_client.components.get(name=\"cog_search\", version=\"1.0.2\")\n",
        "except:\n",
        "    data_search = ml_client.components.create_or_update(data_search)\n",
        "\n",
        "\n",
        "print(data_search)\n"
      ]
    },
    {
      "cell_type": "code",
      "execution_count": 53,
      "metadata": {
        "gather": {
          "logged": 1683161978302
        }
      },
      "outputs": [
        {
          "name": "stderr",
          "output_type": "stream",
          "text": [
            "\u001b[32mUploading data-teams-webhook-src (0.0 MBs): 100%|██████████| 4327/4327 [00:00<00:00, 132705.13it/s]\n",
            "\u001b[39m\n",
            "\n"
          ]
        },
        {
          "name": "stdout",
          "output_type": "stream",
          "text": [
            "$schema: https://azuremlschemas.azureedge.net/latest/commandComponent.schema.json\n",
            "name: teams_notification\n",
            "version: 1.0.3\n",
            "display_name: teams_notification\n",
            "description: Send results to teams channel\n",
            "type: command\n",
            "inputs:\n",
            "  file_path_in:\n",
            "    type: uri_folder\n",
            "outputs:\n",
            "  file_path_out:\n",
            "    type: uri_folder\n",
            "command: python data-teams-webhook.py --file_path_in ${{inputs.file_path_in}} --file_path_out\n",
            "  ${{outputs.file_path_out}}\n",
            "environment: azureml:/subscriptions/aa18b01c-698a-4766-8181-9121aa576dc4/resourceGroups/rs1/providers/Microsoft.MachineLearningServices/workspaces/ymao-ws1/environments/docker-image-for-pair-matching/versions/15\n",
            "code: azureml:/subscriptions/aa18b01c-698a-4766-8181-9121aa576dc4/resourceGroups/rs1/providers/Microsoft.MachineLearningServices/workspaces/ymao-ws1/codes/98bc6e47-75d7-4dcc-a3cc-3a9a441d116c/versions/1\n",
            "resources:\n",
            "  instance_count: 1\n",
            "tags: {}\n",
            "is_deterministic: true\n",
            "id: azureml:/subscriptions/aa18b01c-698a-4766-8181-9121aa576dc4/resourceGroups/rs1/providers/Microsoft.MachineLearningServices/workspaces/ymao-ws1/components/teams_notification/versions/1.0.3\n",
            "creation_context:\n",
            "  created_at: '2023-05-04T00:59:38.028236+00:00'\n",
            "  created_by: YUEXIN MAO\n",
            "  created_by_type: User\n",
            "  last_modified_at: '2023-05-04T00:59:38.131578+00:00'\n",
            "  last_modified_by: YUEXIN MAO\n",
            "  last_modified_by_type: User\n",
            "\n"
          ]
        }
      ],
      "source": [
        "data_notification = load_component(source=parent_dir + \"/data_notification.yml\")\n",
        "\n",
        "try:\n",
        "    data_notification = ml_client.components.get(name=\"teams_notification\", version=\"1.0.3\")\n",
        "except:\n",
        "    data_notification = ml_client.components.create_or_update(data_notification)\n",
        "\n",
        "\n",
        "print(data_notification)\n"
      ]
    },
    {
      "attachments": {},
      "cell_type": "markdown",
      "metadata": {},
      "source": [
        "##### Check if the enviroment is available and ge the enviroment id "
      ]
    },
    {
      "cell_type": "code",
      "execution_count": 25,
      "metadata": {},
      "outputs": [
        {
          "name": "stdout",
          "output_type": "stream",
          "text": [
            "Environment({'is_anonymous': False, 'auto_increment_version': False, 'name': 'docker-image-for-pair-matching', 'description': 'Environment created from a Docker image plus pair matching packages.', 'tags': {}, 'properties': {}, 'id': '/subscriptions/aa18b01c-698a-4766-8181-9121aa576dc4/resourceGroups/rs1/providers/Microsoft.MachineLearningServices/workspaces/ymao-ws1/environments/docker-image-for-pair-matching/versions/2', 'Resource__source_path': None, 'base_path': '/mnt/batch/tasks/shared/LS_root/mounts/clusters/yuexinmao1/code/Users/yuexinmao/collectioin-ym/pipeline_comfort_poc', 'creation_context': <azure.ai.ml.entities._system_data.SystemData object at 0x7f756cd943d0>, 'serialize': <msrest.serialization.Serializer object at 0x7f7594542040>, 'version': '2', 'latest_version': None, 'conda_file': {'channels': ['conda-forge'], 'dependencies': ['python=3.8', 'pip=21.2.4', {'pip': ['jellyfish==0.9.0', 'joblib==1.2.0', 'numpy==1.23.4', 'pandas==1.5.1', 'python-dateutil==2.8.2', 'pytz==2022.6', 'recordlinkage==0.15', 'scikit-learn==1.1.3', 'scipy==1.9.3', 'six==1.16.0', 'threadpoolctl==3.1.0', 'matplotlib~=3.5.0', 'psutil~=5.8.0', 'tqdm~=4.62.0', 'ipykernel~=6.0', 'azureml-core==1.47.0', 'azureml-defaults==1.47.0', 'azureml-mlflow==1.47.0', 'azureml-telemetry==1.47.0', 'debugpy~=1.6.3']}], 'name': 'recordlinkage'}, 'image': 'mcr.microsoft.com/azureml/curated/sklearn-1.0-ubuntu20.04-py38-cpu:32', 'build': None, 'inference_config': None, 'os_type': 'Linux', 'arm_type': 'environment_version', 'conda_file_path': None, 'path': None, 'datastore': None, 'upload_hash': None, 'translated_conda_file': None})\n"
          ]
        }
      ],
      "source": [
        "envs = ml_client.environments.get(name=\"docker-image-for-pair-matching\", version=\"2\")\n",
        "print(envs)"
      ]
    },
    {
      "attachments": {},
      "cell_type": "markdown",
      "metadata": {},
      "source": [
        "# 3. pipeline job\n",
        "## 3.1 Build pipeline"
      ]
    },
    {
      "attachments": {},
      "cell_type": "markdown",
      "metadata": {},
      "source": [
        "##### data extraction, form recognizer pipeline"
      ]
    },
    {
      "attachments": {},
      "cell_type": "markdown",
      "metadata": {},
      "source": [
        "### Create the Pipeline"
      ]
    },
    {
      "cell_type": "code",
      "execution_count": 54,
      "metadata": {
        "gather": {
          "logged": 1683161989290
        }
      },
      "outputs": [
        {
          "data": {
            "text/html": [
              "<table style=\"width:100%\"><tr><th>Experiment</th><th>Name</th><th>Type</th><th>Status</th><th>Details Page</th></tr><tr><td>Invoice_Analysis_OpenAI_Inference</td><td>khaki_collar_ygfw5pljpx</td><td>pipeline</td><td>Preparing</td><td><a href=\"https://ml.azure.com/runs/khaki_collar_ygfw5pljpx?wsid=/subscriptions/aa18b01c-698a-4766-8181-9121aa576dc4/resourcegroups/rs1/workspaces/ymao-ws1&amp;tid=16b3c013-d300-468d-ac64-7eda0820b6d3\" target=\"_blank\" rel=\"noopener\">Link to Azure Machine Learning studio</a></td></tr></table>"
            ],
            "text/plain": [
              "PipelineJob({'inputs': {'blobname': <azure.ai.ml.entities._job.pipeline._io.PipelineInput object at 0x7fee2b751790>, 'openai_engine': <azure.ai.ml.entities._job.pipeline._io.PipelineInput object at 0x7fee2b751610>}, 'outputs': {'outputs': <azure.ai.ml.entities._job.pipeline._io.PipelineOutput object at 0x7fee2b7517c0>}, 'jobs': {}, 'component': PipelineComponent({'auto_increment_version': False, 'source': 'REMOTE.WORKSPACE.JOB', 'is_anonymous': True, 'name': 'azureml_anonymous', 'description': 'Vendor Invoice Analysis Inference Pipeline', 'tags': {}, 'properties': {}, 'id': None, 'Resource__source_path': None, 'base_path': None, 'creation_context': None, 'serialize': <msrest.serialization.Serializer object at 0x7fee2b7fc520>, 'version': '1', 'latest_version': None, 'schema': None, 'type': 'pipeline', 'display_name': 'pipeline_data_extraction', 'is_deterministic': None, 'inputs': {'blobname': {}, 'openai_engine': {}}, 'outputs': {'outputs': {}}, 'yaml_str': None, 'other_parameter': {}, 'jobs': {'form_recognizer_process': Command({'parameters': {}, 'init': False, 'type': 'command', 'status': None, 'log_files': None, 'name': 'form_recognizer_process', 'description': None, 'tags': {}, 'properties': {}, 'id': None, 'Resource__source_path': None, 'base_path': None, 'creation_context': None, 'serialize': <msrest.serialization.Serializer object at 0x7fee2b756df0>, 'allowed_keys': {}, 'key_restriction': False, 'logger': <Logger attr_dict (WARNING)>, 'display_name': None, 'experiment_name': None, 'compute': None, 'services': None, 'comment': None, 'job_inputs': {'blobname': '${{parent.inputs.blobname}}'}, 'job_outputs': {}, 'inputs': {'blobname': <azure.ai.ml.entities._job.pipeline._io.NodeInput object at 0x7fee2b7561c0>}, 'outputs': {}, 'component': 'data_extraction:1.0.1', 'referenced_control_flow_node_instance_id': None, 'kwargs': {'services': None}, 'instance_id': 'cd93cdde-e8dd-4c50-b716-eebaf1594e30', 'source': 'REMOTE.WORKSPACE.COMPONENT', 'limits': None, 'identity': None, 'distribution': None, 'environment_variables': {}, 'environment': None, 'resources': {'instance_count': 1}, 'swept': False}), 'openai_data_enrichment_process': Command({'parameters': {}, 'init': False, 'type': 'command', 'status': None, 'log_files': None, 'name': 'openai_data_enrichment_process', 'description': None, 'tags': {}, 'properties': {}, 'id': None, 'Resource__source_path': None, 'base_path': None, 'creation_context': None, 'serialize': <msrest.serialization.Serializer object at 0x7fee2b756610>, 'allowed_keys': {}, 'key_restriction': False, 'logger': <Logger attr_dict (WARNING)>, 'display_name': None, 'experiment_name': None, 'compute': None, 'services': None, 'comment': None, 'job_inputs': {'file_path_in': '${{parent.jobs.form_recognizer_process.outputs.output}}', 'gpt_engine': '${{parent.inputs.openai_engine}}'}, 'job_outputs': {}, 'inputs': {'file_path_in': <azure.ai.ml.entities._job.pipeline._io.NodeInput object at 0x7fee2b756790>, 'gpt_engine': <azure.ai.ml.entities._job.pipeline._io.NodeInput object at 0x7fee2b7566a0>}, 'outputs': {}, 'component': 'openai_enrichment:1.1.5', 'referenced_control_flow_node_instance_id': None, 'kwargs': {'services': None}, 'instance_id': '7394224a-e1f9-4424-9c22-3944b1f47540', 'source': 'REMOTE.WORKSPACE.COMPONENT', 'limits': None, 'identity': None, 'distribution': None, 'environment_variables': {}, 'environment': None, 'resources': {'instance_count': 1}, 'swept': False}), 'similar_product_searching_process': Command({'parameters': {}, 'init': False, 'type': 'command', 'status': None, 'log_files': None, 'name': 'similar_product_searching_process', 'description': None, 'tags': {}, 'properties': {}, 'id': None, 'Resource__source_path': None, 'base_path': None, 'creation_context': None, 'serialize': <msrest.serialization.Serializer object at 0x7fee2b7564c0>, 'allowed_keys': {}, 'key_restriction': False, 'logger': <Logger attr_dict (WARNING)>, 'display_name': None, 'experiment_name': None, 'compute': None, 'services': None, 'comment': None, 'job_inputs': {'file_path_in': '${{parent.jobs.openai_data_enrichment_process.outputs.file_path_out}}'}, 'job_outputs': {}, 'inputs': {'file_path_in': <azure.ai.ml.entities._job.pipeline._io.NodeInput object at 0x7fee2b756d90>}, 'outputs': {}, 'component': 'cog_search:1.0.2', 'referenced_control_flow_node_instance_id': None, 'kwargs': {'services': None}, 'instance_id': '4cb6e920-72e1-4809-9857-4438e2b9b7f8', 'source': 'REMOTE.WORKSPACE.COMPONENT', 'limits': None, 'identity': None, 'distribution': None, 'environment_variables': {}, 'environment': None, 'resources': {'instance_count': 1}, 'swept': False}), 'data_summarization_to_teams': Command({'parameters': {}, 'init': False, 'type': 'command', 'status': None, 'log_files': None, 'name': 'data_summarization_to_teams', 'description': None, 'tags': {}, 'properties': {}, 'id': None, 'Resource__source_path': None, 'base_path': None, 'creation_context': None, 'serialize': <msrest.serialization.Serializer object at 0x7fee2b7567f0>, 'allowed_keys': {}, 'key_restriction': False, 'logger': <Logger attr_dict (WARNING)>, 'display_name': None, 'experiment_name': None, 'compute': None, 'services': None, 'comment': None, 'job_inputs': {'file_path_in': '${{parent.jobs.similar_product_searching_process.outputs.file_path_out}}'}, 'job_outputs': {'file_path_out': '${{parent.outputs.outputs}}'}, 'inputs': {'file_path_in': <azure.ai.ml.entities._job.pipeline._io.NodeInput object at 0x7fee2b7fca60>}, 'outputs': {'file_path_out': <azure.ai.ml.entities._job.pipeline._io.NodeOutput object at 0x7fee34409070>}, 'component': 'teams_notification:1.0.3', 'referenced_control_flow_node_instance_id': None, 'kwargs': {'services': None}, 'instance_id': '51d952ff-4508-428d-9d59-ac886a38698e', 'source': 'REMOTE.WORKSPACE.COMPONENT', 'limits': None, 'identity': None, 'distribution': None, 'environment_variables': {}, 'environment': None, 'resources': {'instance_count': 1}, 'swept': False})}, 'job_types': {'command': 4}, 'job_sources': {'REMOTE.WORKSPACE.COMPONENT': 4}, 'source_job_id': None}), 'type': 'pipeline', 'status': 'Preparing', 'log_files': None, 'name': 'khaki_collar_ygfw5pljpx', 'description': 'Vendor Invoice Analysis Inference Pipeline', 'tags': {}, 'properties': {'azureml.DevPlatv2': 'true', 'azureml.DatasetAccessMode': 'Asset', 'azureml.runsource': 'azureml.PipelineRun', 'runSource': 'MFE', 'runType': 'HTTP', 'azureml.parameters': '{\"blobname\":\"s_1_1.tif\",\"openai_engine\":\"davinci\"}', 'azureml.continue_on_step_failure': 'True', 'azureml.continue_on_failed_optional_input': 'True', 'azureml.enforceRerun': 'False', 'azureml.defaultComputeName': 'ym-cluster-2', 'azureml.defaultDataStoreName': 'workspaceblobstore', 'azureml.pipelineComponent': 'pipelinerun'}, 'id': '/subscriptions/aa18b01c-698a-4766-8181-9121aa576dc4/resourceGroups/rs1/providers/Microsoft.MachineLearningServices/workspaces/ymao-ws1/jobs/khaki_collar_ygfw5pljpx', 'Resource__source_path': None, 'base_path': '/mnt/batch/tasks/shared/LS_root/mounts/clusters/yuexinmao1/code/Users/yuexinmao/collectioin-ym/pippline_form_recognizer_inference', 'creation_context': <azure.ai.ml.entities._system_data.SystemData object at 0x7fee2b7512b0>, 'serialize': <msrest.serialization.Serializer object at 0x7fee2b7516d0>, 'display_name': 'pipeline_data_extraction', 'experiment_name': 'Invoice_Analysis_OpenAI_Inference', 'compute': None, 'services': {'Tracking': <azure.ai.ml._restclient.v2022_10_01_preview.models._models_py3.JobService object at 0x7fee2b756550>, 'Studio': <azure.ai.ml._restclient.v2022_10_01_preview.models._models_py3.JobService object at 0x7fee2b756100>}, 'settings': {}, 'identity': None, 'default_code': None, 'default_environment': None})"
            ]
          },
          "execution_count": 54,
          "metadata": {},
          "output_type": "execute_result"
        }
      ],
      "source": [
        "from azure.ai.ml.constants import AssetTypes\n",
        "\n",
        "# Construct pipeline\n",
        "@pipeline()\n",
        "def pipeline_data_extraction(\n",
        "    blobname,\n",
        "    openai_engine\n",
        "\n",
        "\n",
        " ):\n",
        "    \"\"\"Vendor Invoice Analysis Inference Pipeline\"\"\"\n",
        "    # Call component obj as function: apply given inputs & parameters to create a node in pipeline\n",
        "    Form_recognizer_Process = data_extraction(\n",
        "        blobname = blobname\n",
        "     )\n",
        "\n",
        "    OpenAI_Data_Enrichment_Process = openai_enrichment(\n",
        "        file_path_in = Form_recognizer_Process.outputs.output,\n",
        "        gpt_engine = openai_engine\n",
        "    )\n",
        "\n",
        "    Similar_Product_Searching_Process = data_search(\n",
        "        file_path_in = OpenAI_Data_Enrichment_Process.outputs.file_path_out\n",
        "    )\n",
        "\n",
        "    Data_Summarization_to_Teams = data_notification(\n",
        "        file_path_in = Similar_Product_Searching_Process.outputs.file_path_out\n",
        "\n",
        "    )\n",
        "\n",
        "    # Return: pipeline outputs\n",
        "    return {\n",
        "        \"outputs\": Data_Summarization_to_Teams.outputs.file_path_out\n",
        "    }\n",
        "pipeline_job = pipeline_data_extraction(\n",
        "     \n",
        "    blobname = \"s_1_1.tif\",\n",
        "    openai_engine= 'davinci'\n",
        "    #file_path_out = Input(type=\"uri_folder\", path=parent_dir + \"/data/output/\"),\n",
        ")\n",
        "\n",
        "# set pipeline level compute\n",
        "pipeline_job.settings.default_compute = \"ym-cluster-2\"\n",
        "\n",
        "# submit job to workspace\n",
        "pipeline_job = ml_client.jobs.create_or_update(\n",
        "    pipeline_job, experiment_name=\"Invoice_Analysis_OpenAI_Inference\"\n",
        ")\n",
        "pipeline_job"
      ]
    },
    {
      "attachments": {},
      "cell_type": "markdown",
      "metadata": {},
      "source": [
        "# Next Steps\n",
        "You can see further examples of running a pipeline job [here](../)"
      ]
    }
  ],
  "metadata": {
    "description": {
      "description": "Register component and then use these components to build pipeline"
    },
    "kernel_info": {
      "name": "python38-azureml"
    },
    "kernelspec": {
      "display_name": "Python 3.8 - AzureML",
      "language": "python",
      "name": "python38-azureml"
    },
    "language_info": {
      "codemirror_mode": {
        "name": "ipython",
        "version": 3
      },
      "file_extension": ".py",
      "mimetype": "text/x-python",
      "name": "python",
      "nbconvert_exporter": "python",
      "pygments_lexer": "ipython3",
      "version": "3.8.5"
    },
    "microsoft": {
      "host": {
        "AzureML": {
          "notebookHasBeenCompleted": true
        }
      },
      "ms_spell_check": {
        "ms_spell_check_language": "en"
      }
    },
    "nteract": {
      "version": "nteract-front-end@1.0.0"
    },
    "vscode": {
      "interpreter": {
        "hash": "6d65a8c07f5b6469e0fc613f182488c0dccce05038bbda39e5ac9075c0454d11"
      }
    }
  },
  "nbformat": 4,
  "nbformat_minor": 2
}
