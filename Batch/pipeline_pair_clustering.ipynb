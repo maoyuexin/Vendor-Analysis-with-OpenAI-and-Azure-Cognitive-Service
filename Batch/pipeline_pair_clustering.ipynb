{
  "cells": [
    {
      "cell_type": "markdown",
      "metadata": {},
      "source": [
        "# Build pipeline with registered components\n",
        "\n",
        "**Requirements** - In order to benefit from this tutorial, you will need:\n",
        "- A basic understanding of Machine Learning\n",
        "- An Azure account with an active subscription - [Create an account for free](https://azure.microsoft.com/free/?WT.mc_id=A261C142F)\n",
        "- An Azure ML workspace with computer cluster - [Configure workspace](../../configuration.ipynb)\n",
        "- A python environment\n",
        "- Installed Azure Machine Learning Python SDK v2 - [install instructions](../../../README.md) - check the getting started section\n",
        "\n",
        "**Learning Objectives** - By the end of this tutorial, you should be able to:\n",
        "- Connect to your AML workspace from the Python SDK\n",
        "- Define `CommandComponent` using YAML, `command_component` decorator\n",
        "- Create components into workspace\n",
        "- Create `Pipeline` using registered components.\n",
        "\n",
        "**Motivations** - This notebook explains different method to create components via SDK then use these components to build pipeline."
      ]
    },
    {
      "cell_type": "markdown",
      "metadata": {},
      "source": [
        "# 1. Connect to Azure Machine Learning Workspace\n",
        "\n",
        "The [workspace](https://docs.microsoft.com/en-us/azure/machine-learning/concept-workspace) is the top-level resource for Azure Machine Learning, providing a centralized place to work with all the artifacts you create when you use Azure Machine Learning. In this section we will connect to the workspace in which the job will be run.\n",
        "\n",
        "## 1.1 Import the required libraries"
      ]
    },
    {
      "cell_type": "code",
      "execution_count": 1,
      "metadata": {},
      "outputs": [
        {
          "name": "stderr",
          "output_type": "stream",
          "text": [
            "Class SystemCreatedStorageAccount: This is an experimental class, and may change at any time. Please see https://aka.ms/azuremlexperimental for more information.\n",
            "Class SystemCreatedAcrAccount: This is an experimental class, and may change at any time. Please see https://aka.ms/azuremlexperimental for more information.\n"
          ]
        }
      ],
      "source": [
        "# Import required libraries\n",
        "from azure.identity import DefaultAzureCredential, InteractiveBrowserCredential\n",
        "\n",
        "from azure.ai.ml import MLClient, Input, Output\n",
        "from azure.ai.ml.dsl import pipeline\n",
        "from azure.ai.ml import load_component"
      ]
    },
    {
      "cell_type": "markdown",
      "metadata": {},
      "source": [
        "## 1.2 Configure credential\n",
        "\n",
        "We are using `DefaultAzureCredential` to get access to workspace. \n",
        "`DefaultAzureCredential` should be capable of handling most Azure SDK authentication scenarios. \n",
        "\n",
        "Reference for more available credentials if it does not work for you: [configure credential example](../../configuration.ipynb), [azure-identity reference doc](https://docs.microsoft.com/en-us/python/api/azure-identity/azure.identity?view=azure-python)."
      ]
    },
    {
      "cell_type": "code",
      "execution_count": 2,
      "metadata": {},
      "outputs": [],
      "source": [
        "try:\n",
        "    credential = DefaultAzureCredential()\n",
        "    # Check if given credential can get token successfully.\n",
        "    credential.get_token(\"https://management.azure.com/.default\")\n",
        "except Exception as ex:\n",
        "    # Fall back to InteractiveBrowserCredential in case DefaultAzureCredential not work\n",
        "    credential = InteractiveBrowserCredential()"
      ]
    },
    {
      "cell_type": "markdown",
      "metadata": {},
      "source": [
        "## 1.3 Get a handle to the workspace\n",
        "\n",
        "We use config file to connect to a workspace. The Azure ML workspace should be configured with computer cluster. [Check this notebook for configure a workspace](../../configuration.ipynb)"
      ]
    },
    {
      "cell_type": "code",
      "execution_count": 3,
      "metadata": {},
      "outputs": [
        {
          "name": "stderr",
          "output_type": "stream",
          "text": [
            "Class RegistryOperations: This is an experimental class, and may change at any time. Please see https://aka.ms/azuremlexperimental for more information.\n"
          ]
        }
      ],
      "source": [
        "# Get a handle to workspace\n",
        "#ml_client = MLClient.from_config(credential=credential)\n",
        "\n",
        "subscription_id = \"<subscription_id>\"\n",
        "resource_group = \"<resource_group>\"\n",
        "workspace = \"<AML workspace>\"\n",
        "\n",
        "ml_client = MLClient(credential, subscription_id, resource_group, workspace)\n",
        "# Retrieve an already attached Azure Machine Learning Compute.\n",
        "cluster_name = \"cpu-cluster\"\n",
        "#print(ml_client.compute.get(cluster_name))"
      ]
    },
    {
      "cell_type": "markdown",
      "metadata": {},
      "source": [
        "# 2. Define and create components into workspace\n",
        "## 2.1 Load components definition from YAML and Register components into workspace"
      ]
    },
    {
      "cell_type": "markdown",
      "metadata": {},
      "source": [
        "#### "
      ]
    },
    {
      "cell_type": "code",
      "execution_count": 5,
      "metadata": {},
      "outputs": [],
      "source": [
        "parent_dir = \".\""
      ]
    },
    {
      "attachments": {},
      "cell_type": "markdown",
      "metadata": {},
      "source": [
        "#### Create Data Extraction Components"
      ]
    },
    {
      "cell_type": "code",
      "execution_count": null,
      "metadata": {},
      "outputs": [],
      "source": [
        "data_extraction = load_component(source=parent_dir + \"/data_extraction.yml\")\n",
        "\n",
        "try:\n",
        "    data_extraction = ml_client.components.get(name=\"data_extraction\", version=\"1.5\")\n",
        "except:\n",
        "    data_extraction = ml_client.components.create_or_update(data_extraction)\n",
        "\n",
        "\n",
        "print(data_extraction)"
      ]
    },
    {
      "attachments": {},
      "cell_type": "markdown",
      "metadata": {},
      "source": [
        "#### Create Bing Data Enrichment Components"
      ]
    },
    {
      "cell_type": "code",
      "execution_count": null,
      "metadata": {},
      "outputs": [],
      "source": [
        "data_enrichment = load_component(source=parent_dir + \"/data_enrichment.yml\")\n",
        "\n",
        "try:\n",
        "    data_enrichment = ml_client.components.get(name=\"data_enrichment\", version=\"1.7\")\n",
        "except:\n",
        "    data_enrichment = ml_client.components.create_or_update(data_enrichment)\n",
        "\n",
        "\n",
        "print(data_enrichment)"
      ]
    },
    {
      "attachments": {},
      "cell_type": "markdown",
      "metadata": {},
      "source": [
        "#### Create OpenAI Data Enrichment Components"
      ]
    },
    {
      "cell_type": "code",
      "execution_count": null,
      "metadata": {},
      "outputs": [],
      "source": [
        "openai_enrichment = load_component(source=parent_dir + \"/data_enrichment_openAI.yml\")\n",
        "\n",
        "try:\n",
        "    openai_enrichment = ml_client.components.get(name=\"openai_enrichment\", version=\"1.0.5\")\n",
        "except:\n",
        "    openai_enrichment = ml_client.components.create_or_update(openai_enrichment)\n",
        "\n",
        "\n",
        "print(openai_enrichment)"
      ]
    },
    {
      "attachments": {},
      "cell_type": "markdown",
      "metadata": {},
      "source": [
        "#### Create Data Clustering Components"
      ]
    },
    {
      "cell_type": "code",
      "execution_count": null,
      "metadata": {},
      "outputs": [],
      "source": [
        "data_pair_clustering = load_component(source=parent_dir + \"/clustering_pipeline.yml\")\n",
        "\n",
        "try:\n",
        "    data_pair_clustering = ml_client.components.get(name=\"data_pair_clustering\", version=\"1.0.2\")\n",
        "except:\n",
        "    data_pair_clustering = ml_client.components.create_or_update(data_pair_clustering)\n",
        "\n",
        "\n",
        "print(data_pair_clustering)"
      ]
    },
    {
      "attachments": {},
      "cell_type": "markdown",
      "metadata": {},
      "source": [
        "#### Create Data Visulization Components"
      ]
    },
    {
      "cell_type": "code",
      "execution_count": null,
      "metadata": {},
      "outputs": [],
      "source": [
        "data_visualization = load_component(source=parent_dir + \"/data_visualization.yml\")\n",
        "\n",
        "try:\n",
        "    data_visualization = ml_client.components.get(name=\"data_visualization\", version=\"1.0.3\")\n",
        "except:\n",
        "    data_visualization = ml_client.components.create_or_update(data_visualization)\n",
        "\n",
        "\n",
        "print(data_visualization)\n"
      ]
    },
    {
      "cell_type": "markdown",
      "metadata": {},
      "source": [
        "##### Check if the enviroment is available and ge the enviroment id "
      ]
    },
    {
      "cell_type": "code",
      "execution_count": 25,
      "metadata": {},
      "outputs": [
        {
          "name": "stdout",
          "output_type": "stream",
          "text": [
            "Environment({'is_anonymous': False, 'auto_increment_version': False, 'name': 'docker-image-for-pair-matching', 'description': 'Environment created from a Docker image plus pair matching packages.', 'tags': {}, 'properties': {}, 'id': '/subscriptions/aa18b01c-698a-4766-8181-9121aa576dc4/resourceGroups/rs1/providers/Microsoft.MachineLearningServices/workspaces/ymao-ws1/environments/docker-image-for-pair-matching/versions/2', 'Resource__source_path': None, 'base_path': '/mnt/batch/tasks/shared/LS_root/mounts/clusters/yuexinmao1/code/Users/yuexinmao/collectioin-ym/pipeline_comfort_poc', 'creation_context': <azure.ai.ml.entities._system_data.SystemData object at 0x7f756cd943d0>, 'serialize': <msrest.serialization.Serializer object at 0x7f7594542040>, 'version': '2', 'latest_version': None, 'conda_file': {'channels': ['conda-forge'], 'dependencies': ['python=3.8', 'pip=21.2.4', {'pip': ['jellyfish==0.9.0', 'joblib==1.2.0', 'numpy==1.23.4', 'pandas==1.5.1', 'python-dateutil==2.8.2', 'pytz==2022.6', 'recordlinkage==0.15', 'scikit-learn==1.1.3', 'scipy==1.9.3', 'six==1.16.0', 'threadpoolctl==3.1.0', 'matplotlib~=3.5.0', 'psutil~=5.8.0', 'tqdm~=4.62.0', 'ipykernel~=6.0', 'azureml-core==1.47.0', 'azureml-defaults==1.47.0', 'azureml-mlflow==1.47.0', 'azureml-telemetry==1.47.0', 'debugpy~=1.6.3']}], 'name': 'recordlinkage'}, 'image': 'mcr.microsoft.com/azureml/curated/sklearn-1.0-ubuntu20.04-py38-cpu:32', 'build': None, 'inference_config': None, 'os_type': 'Linux', 'arm_type': 'environment_version', 'conda_file_path': None, 'path': None, 'datastore': None, 'upload_hash': None, 'translated_conda_file': None})\n"
          ]
        }
      ],
      "source": [
        "envs = ml_client.environments.get(name=\"docker-image-for-pair-matching\", version=\"2\")\n",
        "print(envs)"
      ]
    },
    {
      "cell_type": "markdown",
      "metadata": {},
      "source": [
        "# 3. pipeline job\n",
        "## 3.1 Build pipeline"
      ]
    },
    {
      "cell_type": "markdown",
      "metadata": {},
      "source": [
        "##### data extraction, form recognizer pipeline"
      ]
    },
    {
      "attachments": {},
      "cell_type": "markdown",
      "metadata": {},
      "source": [
        "### Create the Pipeline"
      ]
    },
    {
      "cell_type": "code",
      "execution_count": 59,
      "metadata": {},
      "outputs": [
        {
          "data": {
            "text/html": [
              "<table style=\"width:100%\"><tr><th>Experiment</th><th>Name</th><th>Type</th><th>Status</th><th>Details Page</th></tr><tr><td>InformationExtraction_OpenAI</td><td>cyan_mango_6jppdy8th2</td><td>pipeline</td><td>Preparing</td><td><a href=\"https://ml.azure.com/runs/cyan_mango_6jppdy8th2?wsid=/subscriptions/aa18b01c-698a-4766-8181-9121aa576dc4/resourcegroups/rs1/workspaces/ymao-ws1&amp;tid=16b3c013-d300-468d-ac64-7eda0820b6d3\" target=\"_blank\" rel=\"noopener\">Link to Azure Machine Learning studio</a></td></tr></table>"
            ],
            "text/plain": [
              "PipelineJob({'inputs': {'data_extraction_start_index': <azure.ai.ml.entities._job.pipeline._io.PipelineInput object at 0x7f10216a96a0>, 'data_extraction_end_index': <azure.ai.ml.entities._job.pipeline._io.PipelineInput object at 0x7f10216a9700>, 'block_attributes': <azure.ai.ml.entities._job.pipeline._io.PipelineInput object at 0x7f10216a9730>, 'cluster_attributes': <azure.ai.ml.entities._job.pipeline._io.PipelineInput object at 0x7f10216a9760>, 'similarity_threshold': <azure.ai.ml.entities._job.pipeline._io.PipelineInput object at 0x7f10216a9790>, 'openai_engine': <azure.ai.ml.entities._job.pipeline._io.PipelineInput object at 0x7f10216a97c0>}, 'outputs': {'outputs': <azure.ai.ml.entities._job.pipeline._io.PipelineOutput object at 0x7f10216a9820>}, 'jobs': {}, 'component': PipelineComponent({'auto_increment_version': False, 'source': 'REMOTE.WORKSPACE.JOB', 'is_anonymous': True, 'name': 'azureml_anonymous', 'description': 'Comfort PoC Vendor Invoice Analysis.', 'tags': {}, 'properties': {}, 'id': None, 'Resource__source_path': None, 'base_path': None, 'creation_context': None, 'serialize': <msrest.serialization.Serializer object at 0x7f10216a9430>, 'version': '1', 'latest_version': None, 'schema': None, 'type': 'pipeline', 'display_name': 'pipeline_data_extraction', 'is_deterministic': None, 'inputs': {'data_extraction_start_index': {}, 'data_extraction_end_index': {}, 'block_attributes': {}, 'cluster_attributes': {}, 'similarity_threshold': {}, 'openai_engine': {}}, 'outputs': {'outputs': {}}, 'yaml_str': None, 'other_parameter': {}, 'jobs': {'form_recognizer_process': Command({'parameters': {}, 'init': False, 'type': 'command', 'status': None, 'log_files': None, 'name': 'form_recognizer_process', 'description': None, 'tags': {}, 'properties': {}, 'id': None, 'Resource__source_path': None, 'base_path': None, 'creation_context': None, 'serialize': <msrest.serialization.Serializer object at 0x7f10216c3d00>, 'allowed_keys': {}, 'key_restriction': False, 'logger': <Logger attr_dict (WARNING)>, 'display_name': None, 'experiment_name': None, 'compute': None, 'services': None, 'comment': None, 'job_inputs': {'start_index': '${{parent.inputs.data_extraction_start_index}}', 'end_index': '${{parent.inputs.data_extraction_end_index}}'}, 'job_outputs': {}, 'inputs': {'start_index': <azure.ai.ml.entities._job.pipeline._io.NodeInput object at 0x7f10216c3850>, 'end_index': <azure.ai.ml.entities._job.pipeline._io.NodeInput object at 0x7f10216c3820>}, 'outputs': {}, 'component': 'data_extraction:1.5', 'referenced_control_flow_node_instance_id': None, 'kwargs': {'services': None}, 'instance_id': 'dbb01949-7212-45c4-a0bc-d7039ce3c7d7', 'source': 'REMOTE.WORKSPACE.COMPONENT', 'limits': None, 'identity': None, 'distribution': None, 'environment_variables': {}, 'environment': None, 'resources': {'instance_count': 1}, 'swept': False}), 'bing_search_process': Command({'parameters': {}, 'init': False, 'type': 'command', 'status': None, 'log_files': None, 'name': 'bing_search_process', 'description': None, 'tags': {}, 'properties': {}, 'id': None, 'Resource__source_path': None, 'base_path': None, 'creation_context': None, 'serialize': <msrest.serialization.Serializer object at 0x7f10216c36d0>, 'allowed_keys': {}, 'key_restriction': False, 'logger': <Logger attr_dict (WARNING)>, 'display_name': None, 'experiment_name': None, 'compute': None, 'services': None, 'comment': None, 'job_inputs': {'file_path_in': '${{parent.jobs.form_recognizer_process.outputs.output}}'}, 'job_outputs': {}, 'inputs': {'file_path_in': <azure.ai.ml.entities._job.pipeline._io.NodeInput object at 0x7f10216c3cd0>}, 'outputs': {}, 'component': 'data_enrichment:1.7', 'referenced_control_flow_node_instance_id': None, 'kwargs': {'services': None}, 'instance_id': '55879755-72f4-4e98-bf81-b024ce2b6f91', 'source': 'REMOTE.WORKSPACE.COMPONENT', 'limits': None, 'identity': None, 'distribution': None, 'environment_variables': {}, 'environment': None, 'resources': {'instance_count': 1}, 'swept': False}), 'openai_data_enrichment_process': Command({'parameters': {}, 'init': False, 'type': 'command', 'status': None, 'log_files': None, 'name': 'openai_data_enrichment_process', 'description': None, 'tags': {}, 'properties': {}, 'id': None, 'Resource__source_path': None, 'base_path': None, 'creation_context': None, 'serialize': <msrest.serialization.Serializer object at 0x7f10216c3ca0>, 'allowed_keys': {}, 'key_restriction': False, 'logger': <Logger attr_dict (WARNING)>, 'display_name': None, 'experiment_name': None, 'compute': None, 'services': None, 'comment': None, 'job_inputs': {'file_path_in': '${{parent.jobs.bing_search_process.outputs.file_path_out}}', 'gpt_engine': '${{parent.inputs.openai_engine}}'}, 'job_outputs': {}, 'inputs': {'file_path_in': <azure.ai.ml.entities._job.pipeline._io.NodeInput object at 0x7f10216c3550>, 'gpt_engine': <azure.ai.ml.entities._job.pipeline._io.NodeInput object at 0x7f10216c33d0>}, 'outputs': {}, 'component': 'openai_enrichment:1.0.5', 'referenced_control_flow_node_instance_id': None, 'kwargs': {'services': None}, 'instance_id': '30a2f0bc-de49-47c0-8350-911c135938a8', 'source': 'REMOTE.WORKSPACE.COMPONENT', 'limits': None, 'identity': None, 'distribution': None, 'environment_variables': {}, 'environment': None, 'resources': {'instance_count': 1}, 'swept': False}), 'vendor_product_clustering_process': Command({'parameters': {}, 'init': False, 'type': 'command', 'status': None, 'log_files': None, 'name': 'vendor_product_clustering_process', 'description': None, 'tags': {}, 'properties': {}, 'id': None, 'Resource__source_path': None, 'base_path': None, 'creation_context': None, 'serialize': <msrest.serialization.Serializer object at 0x7f10216c3460>, 'allowed_keys': {}, 'key_restriction': False, 'logger': <Logger attr_dict (WARNING)>, 'display_name': None, 'experiment_name': None, 'compute': None, 'services': None, 'comment': None, 'job_inputs': {'input': '${{parent.jobs.openai_data_enrichment_process.outputs.file_path_out}}', 'block_attributes': '${{parent.inputs.block_attributes}}', 'cluster_attributes': '${{parent.inputs.cluster_attributes}}', 'similarity_threshold': '${{parent.inputs.similarity_threshold}}'}, 'job_outputs': {'output': '${{parent.outputs.outputs}}'}, 'inputs': {'input': <azure.ai.ml.entities._job.pipeline._io.NodeInput object at 0x7f10216a9250>, 'block_attributes': <azure.ai.ml.entities._job.pipeline._io.NodeInput object at 0x7f10216a9280>, 'cluster_attributes': <azure.ai.ml.entities._job.pipeline._io.NodeInput object at 0x7f10216a92b0>, 'similarity_threshold': <azure.ai.ml.entities._job.pipeline._io.NodeInput object at 0x7f10216a92e0>}, 'outputs': {'output': <azure.ai.ml.entities._job.pipeline._io.NodeOutput object at 0x7f10216a9310>}, 'component': 'data_pair_clustering:1.0.2', 'referenced_control_flow_node_instance_id': None, 'kwargs': {'services': None}, 'instance_id': '9b41c1c7-eb55-48ba-a1b7-00631c4a7b07', 'source': 'REMOTE.WORKSPACE.COMPONENT', 'limits': None, 'identity': None, 'distribution': None, 'environment_variables': {}, 'environment': None, 'resources': {'instance_count': 1}, 'swept': False}), 'data_summarization_for_powerbi': Command({'parameters': {}, 'init': False, 'type': 'command', 'status': None, 'log_files': None, 'name': 'data_summarization_for_powerbi', 'description': None, 'tags': {}, 'properties': {}, 'id': None, 'Resource__source_path': None, 'base_path': None, 'creation_context': None, 'serialize': <msrest.serialization.Serializer object at 0x7f10216a9220>, 'allowed_keys': {}, 'key_restriction': False, 'logger': <Logger attr_dict (WARNING)>, 'display_name': None, 'experiment_name': None, 'compute': None, 'services': None, 'comment': None, 'job_inputs': {'input': '${{parent.jobs.vendor_product_clustering_process.outputs.output}}'}, 'job_outputs': {}, 'inputs': {'input': <azure.ai.ml.entities._job.pipeline._io.NodeInput object at 0x7f10216a9460>}, 'outputs': {}, 'component': 'data_visualization:1.0.2', 'referenced_control_flow_node_instance_id': None, 'kwargs': {'services': None}, 'instance_id': 'd9a8e077-aecf-4adb-8aec-9e266d4b8f56', 'source': 'REMOTE.WORKSPACE.COMPONENT', 'limits': None, 'identity': None, 'distribution': None, 'environment_variables': {}, 'environment': None, 'resources': {'instance_count': 1}, 'swept': False})}, 'job_types': {'command': 5}, 'job_sources': {'REMOTE.WORKSPACE.COMPONENT': 5}, 'source_job_id': None}), 'type': 'pipeline', 'status': 'Preparing', 'log_files': None, 'name': 'cyan_mango_6jppdy8th2', 'description': 'Comfort PoC Vendor Invoice Analysis.', 'tags': {}, 'properties': {'azureml.DevPlatv2': 'true', 'azureml.runsource': 'azureml.PipelineRun', 'runSource': 'MFE', 'runType': 'HTTP', 'azureml.parameters': '{\"data_extraction_start_index\":\"0\",\"data_extraction_end_index\":\"2777\",\"block_attributes\":\"file_type\",\"cluster_attributes\":\"file_type Description\",\"similarity_threshold\":\"0.9\",\"openai_engine\":\"summ-davinci002\"}', 'azureml.continue_on_step_failure': 'False', 'azureml.continue_on_failed_optional_input': 'True', 'azureml.defaultComputeName': 'ym-cluster-2', 'azureml.defaultDataStoreName': 'workspaceblobstore', 'azureml.pipelineComponent': 'pipelinerun'}, 'id': '/subscriptions/aa18b01c-698a-4766-8181-9121aa576dc4/resourceGroups/rs1/providers/Microsoft.MachineLearningServices/workspaces/ymao-ws1/jobs/cyan_mango_6jppdy8th2', 'Resource__source_path': None, 'base_path': '/mnt/batch/tasks/shared/LS_root/mounts/clusters/yuexinmao1/code/Users/yuexinmao/collectioin-ym/pipeline_form_recognizer_openAI', 'creation_context': <azure.ai.ml.entities._system_data.SystemData object at 0x7f10216a9670>, 'serialize': <msrest.serialization.Serializer object at 0x7f10216a9880>, 'display_name': 'pipeline_data_extraction', 'experiment_name': 'InformationExtraction_OpenAI', 'compute': None, 'services': {'Tracking': <azure.ai.ml._restclient.v2022_10_01_preview.models._models_py3.JobService object at 0x7f10216c3e80>, 'Studio': <azure.ai.ml._restclient.v2022_10_01_preview.models._models_py3.JobService object at 0x7f10216c3eb0>}, 'settings': {}, 'identity': None, 'default_code': None, 'default_environment': None})"
            ]
          },
          "execution_count": 59,
          "metadata": {},
          "output_type": "execute_result"
        }
      ],
      "source": [
        "from azure.ai.ml.constants import AssetTypes\n",
        "\n",
        "# Construct pipeline\n",
        "@pipeline()\n",
        "def pipeline_data_extraction(\n",
        "    data_extraction_start_index,\n",
        "    data_extraction_end_index,\n",
        "    block_attributes,\n",
        "    cluster_attributes,\n",
        "    similarity_threshold,\n",
        "    openai_engine\n",
        "\n",
        "\n",
        " ):\n",
        "    \"\"\"Comfort PoC Vendor Invoice Analysis.\"\"\"\n",
        "    # Call component obj as function: apply given inputs & parameters to create a node in pipeline\n",
        "    Form_recognizer_Process = data_extraction(\n",
        "        start_index = data_extraction_start_index,\n",
        "        end_index = data_extraction_end_index\n",
        "    )\n",
        "\n",
        "    Bing_Search_Process = data_enrichment(\n",
        "        file_path_in = Form_recognizer_Process.outputs.output\n",
        "    )\n",
        "\n",
        "    OpenAI_Data_Enrichment_Process = openai_enrichment(\n",
        "        file_path_in = Bing_Search_Process.outputs.file_path_out,\n",
        "        gpt_engine = openai_engine\n",
        "    )\n",
        "\n",
        "    Vendor_Product_Clustering_Process = data_pair_clustering(\n",
        "        input = OpenAI_Data_Enrichment_Process.outputs.file_path_out,\n",
        "        block_attributes = block_attributes,\n",
        "        cluster_attributes = cluster_attributes,\n",
        "        similarity_threshold=similarity_threshold\n",
        "    )\n",
        "\n",
        "    Data_Summarization_for_PowerBI = data_visualization(\n",
        "        input = Vendor_Product_Clustering_Process.outputs.output\n",
        "\n",
        "    )\n",
        "\n",
        "    # Return: pipeline outputs\n",
        "    return {\n",
        "        \"outputs\": Vendor_Product_Clustering_Process.outputs.output\n",
        "    }\n",
        "pipeline_job = pipeline_data_extraction(\n",
        "    data_extraction_start_index = 0,\n",
        "    data_extraction_end_index = 2777,\n",
        "    block_attributes = \"file_type\",\n",
        "    cluster_attributes = \"file_type Description\",\n",
        "    similarity_threshold= 0.9,\n",
        "    openai_engine= 'summ-davinci002'\n",
        "    #file_path_out = Input(type=\"uri_folder\", path=parent_dir + \"/data/output/\"),\n",
        ")\n",
        "\n",
        "# set pipeline level compute\n",
        "pipeline_job.settings.default_compute = \"<Add Compute Name>\"\n",
        "\n",
        "# submit job to workspace\n",
        "pipeline_job = ml_client.jobs.create_or_update(\n",
        "    pipeline_job, experiment_name=\"InformationExtraction_OpenAI\"\n",
        ")\n",
        "pipeline_job"
      ]
    },
    {
      "cell_type": "markdown",
      "metadata": {},
      "source": [
        "# Next Steps\n",
        "You can see further examples of running a pipeline job [here](../)"
      ]
    }
  ],
  "metadata": {
    "description": {
      "description": "Register component and then use these components to build pipeline"
    },
    "kernel_info": {
      "name": "python38-azureml"
    },
    "kernelspec": {
      "display_name": "Python 3",
      "language": "python",
      "name": "python3"
    },
    "language_info": {
      "codemirror_mode": {
        "name": "ipython",
        "version": 3
      },
      "file_extension": ".py",
      "mimetype": "text/x-python",
      "name": "python",
      "nbconvert_exporter": "python",
      "pygments_lexer": "ipython3",
      "version": "3.10.10 (tags/v3.10.10:aad5f6a, Feb  7 2023, 17:20:36) [MSC v.1929 64 bit (AMD64)]"
    },
    "nteract": {
      "version": "nteract-front-end@1.0.0"
    },
    "vscode": {
      "interpreter": {
        "hash": "879cc8dd4cba257380563e119afdd85c00a7c75bbd9b424f3c39b6849de0957a"
      }
    }
  },
  "nbformat": 4,
  "nbformat_minor": 2
}
